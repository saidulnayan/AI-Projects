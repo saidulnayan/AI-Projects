{
 "cells": [
  {
   "cell_type": "code",
   "execution_count": 1,
   "metadata": {},
   "outputs": [],
   "source": [
    "#test string\n",
    "test = 'This is my test text. We are keeping this text to keep this manageable.'\n",
    "from collections import Counter\n"
   ]
  },
  {
   "cell_type": "code",
   "execution_count": 2,
   "metadata": {},
   "outputs": [
    {
     "data": {
      "text/plain": [
       "Counter({'this': 3,\n",
       "         'is': 1,\n",
       "         'my': 1,\n",
       "         'test': 1,\n",
       "         'text': 2,\n",
       "         'we': 1,\n",
       "         'are': 1,\n",
       "         'keeping': 1,\n",
       "         'to': 1,\n",
       "         'keep': 1,\n",
       "         'manageable': 1})"
      ]
     },
     "execution_count": 2,
     "metadata": {},
     "output_type": "execute_result"
    }
   ],
   "source": [
    "def count_words_fast(text):\n",
    "    '''Count the number of times each word occurs in text (str).\n",
    "    Return dictionary where keys are unique words and values are\n",
    "    word counts. Skips punctuation'''\n",
    "    \n",
    "    #lower case letters\n",
    "    text = text.lower()\n",
    "    \n",
    "    #skip punctuation\n",
    "    skips = ['.', ':', ';', \"'\", '\"']\n",
    "    for ch in skips:\n",
    "        text = text.replace(ch, \"\")\n",
    "    \n",
    "    word_counts = Counter(text.split(' '))\n",
    "    return word_counts\n",
    "count_words_fast\n",
    "count_words_fast(test)"
   ]
  },
  {
   "cell_type": "code",
   "execution_count": 3,
   "metadata": {},
   "outputs": [
    {
     "data": {
      "text/plain": [
       "6"
      ]
     },
     "execution_count": 3,
     "metadata": {},
     "output_type": "execute_result"
    }
   ],
   "source": [
    "len(count_words_fast(\"This comprehension check is to check for comprehension.\"))"
   ]
  },
  {
   "cell_type": "code",
   "execution_count": 5,
   "metadata": {},
   "outputs": [],
   "source": [
    "def read_book(title_path):\n",
    "    '''\n",
    "    Read a book and retirn it as a string\n",
    "    '''\n",
    "    with open(title_path, 'r', encoding = 'UTF-8') as current_file:\n",
    "        text = current_file.read()\n",
    "        text = text.replace('\\n', '').replace('\\r', '')\n",
    "    return text\n"
   ]
  },
  {
   "cell_type": "code",
   "execution_count": 6,
   "metadata": {},
   "outputs": [],
   "source": [
    "text = read_book(\"romeo & juliet.txt\")"
   ]
  },
  {
   "cell_type": "code",
   "execution_count": 7,
   "metadata": {},
   "outputs": [
    {
     "data": {
      "text/plain": [
       "137083"
      ]
     },
     "execution_count": 7,
     "metadata": {},
     "output_type": "execute_result"
    }
   ],
   "source": [
    "len(text)"
   ]
  },
  {
   "cell_type": "code",
   "execution_count": 8,
   "metadata": {},
   "outputs": [
    {
     "data": {
      "text/plain": [
       "39424"
      ]
     },
     "execution_count": 8,
     "metadata": {},
     "output_type": "execute_result"
    }
   ],
   "source": [
    "ind = text.find(\"What’s in a name?\")\n",
    "ind"
   ]
  },
  {
   "cell_type": "code",
   "execution_count": 10,
   "metadata": {},
   "outputs": [],
   "source": [
    "sample_text = text[ind:ind + 1000]"
   ]
  },
  {
   "cell_type": "code",
   "execution_count": 11,
   "metadata": {},
   "outputs": [
    {
     "data": {
      "text/plain": [
       "'What’s in a name? That which we call a roseBy any other name would smell as sweet;So Romeo would, were he not Romeo call’d,Retain that dear perfection which he owesWithout that title. Romeo, doff thy name,And for thy name, which is no part of thee,Take all myself.ROMEO.I take thee at thy word.Call me but love, and I’ll be new baptis’d;Henceforth I never will be Romeo.JULIET.What man art thou that, thus bescreen’d in nightSo stumblest on my counsel?ROMEO.By a nameI know not how to tell thee who I am:My name, dear saint, is hateful to myself,Because it is an enemy to thee.Had I it written, I would tear the word.JULIET.My ears have yet not drunk a hundred wordsOf thy tongue’s utterance, yet I know the sound.Art thou not Romeo, and a Montague?ROMEO.Neither, fair maid, if either thee dislike.JULIET.How cam’st thou hither, tell me, and wherefore?The orchard walls are high and hard to climb,And the place death, considering who thou art,If any of my kinsmen find thee here.ROMEO.With love’s lig'"
      ]
     },
     "execution_count": 11,
     "metadata": {},
     "output_type": "execute_result"
    }
   ],
   "source": [
    "sample_text"
   ]
  },
  {
   "cell_type": "code",
   "execution_count": 12,
   "metadata": {},
   "outputs": [],
   "source": [
    "def read_book(title_path):\n",
    "    '''\n",
    "    Read a book and retirn it as a string\n",
    "    '''\n",
    "    with open(title_path, 'r', encoding = 'UTF-8') as current_file:\n",
    "        text = current_file.read()\n",
    "        text = text.replace('\\n', '').replace('\\r', '')\n",
    "    return text\n",
    "text = read_book(\"romeo & juliet.txt\")\n",
    "from collections import Counter"
   ]
  },
  {
   "cell_type": "code",
   "execution_count": 13,
   "metadata": {},
   "outputs": [],
   "source": [
    "def count_words_fast(text):\n",
    "    '''Count the number of times each word occurs in text (str).\n",
    "    Return dictionary where keys are unique words and values are\n",
    "    word counts. Skips punctuation'''\n",
    "    \n",
    "    #lower case letters\n",
    "    text = text.lower()\n",
    "    \n",
    "    #skip punctuation\n",
    "    skips = ['.', ':', ';', \"'\", '\"']\n",
    "    for ch in skips:\n",
    "        text = text.replace(ch, \"\")\n",
    "    \n",
    "    word_counts = Counter(text.split(' '))\n",
    "    return word_counts\n"
   ]
  },
  {
   "cell_type": "code",
   "execution_count": 14,
   "metadata": {},
   "outputs": [],
   "source": [
    "def word_stats(word_counts):\n",
    "    '''\n",
    "    Return number of unique words and\n",
    "    word frequences\n",
    "    '''\n",
    "    num_unique = len(word_counts)\n",
    "    counts = word_counts.values()\n",
    "    return (num_unique, counts)\n",
    "word_counts = count_words_fast(text)"
   ]
  },
  {
   "cell_type": "code",
   "execution_count": 15,
   "metadata": {},
   "outputs": [],
   "source": [
    "(num_unique, counts) = word_stats(word_counts)"
   ]
  },
  {
   "cell_type": "code",
   "execution_count": 16,
   "metadata": {},
   "outputs": [
    {
     "data": {
      "text/plain": [
       "7005"
      ]
     },
     "execution_count": 16,
     "metadata": {},
     "output_type": "execute_result"
    }
   ],
   "source": [
    "num_unique"
   ]
  },
  {
   "cell_type": "code",
   "execution_count": 17,
   "metadata": {},
   "outputs": [
    {
     "data": {
      "text/plain": [
       "22024"
      ]
     },
     "execution_count": 17,
     "metadata": {},
     "output_type": "execute_result"
    }
   ],
   "source": [
    "sum(counts)"
   ]
  },
  {
   "cell_type": "code",
   "execution_count": null,
   "metadata": {},
   "outputs": [],
   "source": []
  }
 ],
 "metadata": {
  "kernelspec": {
   "display_name": "Python 3",
   "language": "python",
   "name": "python3"
  },
  "language_info": {
   "codemirror_mode": {
    "name": "ipython",
    "version": 3
   },
   "file_extension": ".py",
   "mimetype": "text/x-python",
   "name": "python",
   "nbconvert_exporter": "python",
   "pygments_lexer": "ipython3",
   "version": "3.6.13"
  }
 },
 "nbformat": 4,
 "nbformat_minor": 2
}
